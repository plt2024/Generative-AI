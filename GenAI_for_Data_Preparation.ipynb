{
 "cells": [
  {
   "cell_type": "markdown",
   "metadata": {},
   "source": [
    "<p style=\"text-align:center\">\n",
    "    <a href=\"https://skills.network\" target=\"_blank\">\n",
    "    <img src=\"https://cf-courses-data.s3.us.cloud-object-storage.appdomain.cloud/assets/logos/SN_web_lightmode.png\" width=\"300\" alt=\"Skills Network Logo\">\n",
    "    </a>\n",
    "</p>\n"
   ]
  },
  {
   "cell_type": "markdown",
   "metadata": {},
   "source": [
    "# Test Environment for Generative AI classroom labs\n",
    "\n",
    "This lab provides a test environment for the codes generated using the Generative AI classroom.\n",
    "\n",
    "Follow the instructions below to set up this environment for further use.\n"
   ]
  },
  {
   "cell_type": "markdown",
   "metadata": {},
   "source": [
    "# Setup\n"
   ]
  },
  {
   "cell_type": "markdown",
   "metadata": {},
   "source": [
    "### Install required libraries\n",
    "\n",
    "In case of a requirement of installing certain python libraries for use in your task, you may do so as shown below.\n"
   ]
  },
  {
   "cell_type": "code",
   "execution_count": 71,
   "metadata": {},
   "outputs": [
    {
     "name": "stdout",
     "output_type": "stream",
     "text": [
      "Requirement already satisfied: nbformat in c:\\users\\hfval\\anaconda3\\lib\\site-packages (5.10.4)\n",
      "Requirement already satisfied: plotly in c:\\users\\hfval\\anaconda3\\lib\\site-packages (5.24.1)\n",
      "Requirement already satisfied: fastjsonschema>=2.15 in c:\\users\\hfval\\anaconda3\\lib\\site-packages (from nbformat) (2.16.2)\n",
      "Requirement already satisfied: jsonschema>=2.6 in c:\\users\\hfval\\anaconda3\\lib\\site-packages (from nbformat) (4.23.0)\n",
      "Requirement already satisfied: jupyter-core!=5.0.*,>=4.12 in c:\\users\\hfval\\anaconda3\\lib\\site-packages (from nbformat) (5.7.2)\n",
      "Requirement already satisfied: traitlets>=5.1 in c:\\users\\hfval\\anaconda3\\lib\\site-packages (from nbformat) (5.14.3)\n",
      "Requirement already satisfied: tenacity>=6.2.0 in c:\\users\\hfval\\anaconda3\\lib\\site-packages (from plotly) (8.2.3)\n",
      "Requirement already satisfied: packaging in c:\\users\\hfval\\anaconda3\\lib\\site-packages (from plotly) (24.1)\n",
      "Requirement already satisfied: attrs>=22.2.0 in c:\\users\\hfval\\anaconda3\\lib\\site-packages (from jsonschema>=2.6->nbformat) (24.3.0)\n",
      "Requirement already satisfied: jsonschema-specifications>=2023.03.6 in c:\\users\\hfval\\anaconda3\\lib\\site-packages (from jsonschema>=2.6->nbformat) (2023.7.1)\n",
      "Requirement already satisfied: referencing>=0.28.4 in c:\\users\\hfval\\anaconda3\\lib\\site-packages (from jsonschema>=2.6->nbformat) (0.30.2)\n",
      "Requirement already satisfied: rpds-py>=0.7.1 in c:\\users\\hfval\\anaconda3\\lib\\site-packages (from jsonschema>=2.6->nbformat) (0.10.6)\n",
      "Requirement already satisfied: platformdirs>=2.5 in c:\\users\\hfval\\anaconda3\\lib\\site-packages (from jupyter-core!=5.0.*,>=4.12->nbformat) (3.10.0)\n",
      "Requirement already satisfied: pywin32>=300 in c:\\users\\hfval\\anaconda3\\lib\\site-packages (from jupyter-core!=5.0.*,>=4.12->nbformat) (305.1)\n",
      "Note: you may need to restart the kernel to use updated packages.\n"
     ]
    }
   ],
   "source": [
    "%pip install nbformat plotly\n"
   ]
  },
  {
   "cell_type": "markdown",
   "metadata": {},
   "source": [
    "### Dataset URL from the GenAI lab\n",
    "Use the URL provided in the GenAI lab in the cell below. \n"
   ]
  },
  {
   "cell_type": "code",
   "execution_count": 83,
   "metadata": {},
   "outputs": [],
   "source": [
    "URL = \"https://cf-courses-data.s3.us.cloud-object-storage.appdomain.cloud/IBMDeveloperSkillsNetwork-DA0101EN-Coursera/laptop_pricing_dataset_mod1.csv\""
   ]
  },
  {
   "cell_type": "markdown",
   "metadata": {},
   "source": [
    "---\n"
   ]
  },
  {
   "cell_type": "markdown",
   "metadata": {},
   "source": [
    "# Test Environment\n"
   ]
  },
  {
   "cell_type": "markdown",
   "metadata": {},
   "source": [
    "Now, you will start building your prompt. First, you must ask the Gen AI model to generate a code to import the provided data set to a Pandas' data frame. You must specify if you are importing the data. Assuming the first row is the header, the data set headers should be available as the first row of the CSV file.\n",
    "\n",
    "The prompt to create the code can be structured as follows."
   ]
  },
  {
   "cell_type": "markdown",
   "metadata": {},
   "source": [
    "# Building the prompt: Importing the data set"
   ]
  },
  {
   "cell_type": "markdown",
   "metadata": {},
   "source": [
    "### PROMPT: Write a Python code that can perform the following tasks; Read the CSV file, located on a given file path (URL above), into a Pandas data frame, assuming that the first rows of the file are the headers for the data."
   ]
  },
  {
   "cell_type": "markdown",
   "metadata": {},
   "source": [
    " Assuming the first rows of the file are the headers, you don't need to specify any additional parameters\n",
    " Additional details:\n",
    " - The `pd.read_csv()` function is used to read a CSV file into a Pandas data frame.\n",
    " - By default, it assumes that the first row of the file contains the headers for the data.\n",
    " - If your file doesn't have headers, you can specify `header=None` as an additional parameter.\n",
    " - You can also specify other parameters, such as `sep` to specify the delimiter used in the file.\n",
    " - Make sure you have the Pandas library installed in your Python environment before running this code."
   ]
  },
  {
   "cell_type": "code",
   "execution_count": 87,
   "metadata": {},
   "outputs": [
    {
     "name": "stdout",
     "output_type": "stream",
     "text": [
      "     Unnamed: 0 Manufacturer  Category     Screen  GPU  OS  CPU_core  \\\n",
      "0             0         Acer         4  IPS Panel    2   1         5   \n",
      "1             1         Dell         3    Full HD    1   1         3   \n",
      "2             2         Dell         3    Full HD    1   1         7   \n",
      "3             3         Dell         4  IPS Panel    2   1         5   \n",
      "4             4           HP         4    Full HD    2   1         7   \n",
      "..          ...          ...       ...        ...  ...  ..       ...   \n",
      "233         233       Lenovo         4  IPS Panel    2   1         7   \n",
      "234         234      Toshiba         3    Full HD    2   1         5   \n",
      "235         235       Lenovo         4  IPS Panel    2   1         5   \n",
      "236         236       Lenovo         3    Full HD    3   1         5   \n",
      "237         237      Toshiba         3    Full HD    2   1         5   \n",
      "\n",
      "     Screen_Size_cm  CPU_frequency  RAM_GB  Storage_GB_SSD  Weight_kg  Price  \n",
      "0            35.560            1.6       8             256       1.60    978  \n",
      "1            39.624            2.0       4             256       2.20    634  \n",
      "2            39.624            2.7       8             256       2.20    946  \n",
      "3            33.782            1.6       8             128       1.22   1244  \n",
      "4            39.624            1.8       8             256       1.91    837  \n",
      "..              ...            ...     ...             ...        ...    ...  \n",
      "233          35.560            2.6       8             256       1.70   1891  \n",
      "234          33.782            2.4       8             256       1.20   1950  \n",
      "235          30.480            2.6       8             256       1.36   2236  \n",
      "236          39.624            2.5       6             256       2.40    883  \n",
      "237          35.560            2.3       8             256       1.95   1499  \n",
      "\n",
      "[238 rows x 13 columns]\n"
     ]
    }
   ],
   "source": [
    "import pandas as pd\n",
    "\n",
    "# Specify the file path to the CSV file\n",
    "file_path = URL\n",
    "\n",
    "# Read the CSV file into a Pandas DataFrame\n",
    "df = pd.read_csv(file_path)\n",
    "\n",
    "# Display the DataFrame\n",
    "print(df)"
   ]
  },
  {
   "cell_type": "markdown",
   "metadata": {},
   "source": [
    "# Building the prompt: Handle missing data"
   ]
  },
  {
   "cell_type": "markdown",
   "metadata": {},
   "source": [
    "### PROMPT: Write a Python code that identifies the columns with missing values in a pandas data frame."
   ]
  },
  {
   "cell_type": "code",
   "execution_count": 97,
   "metadata": {},
   "outputs": [],
   "source": [
    "# Identify columns with missing values\n",
    "columns_with_missing_values = df.columns[df.isnull().any()]\n",
    "\n",
    "# Additional details:\n",
    "# - The `df.isnull()` function returns a Boolean data frame where each cell is True if it contains a missing value (NaN), and False otherwise.\n",
    "# - The `df.columns` attribute returns the column labels of the data frame.\n",
    "# - The `.any()` method returns a Boolean Series indicating whether any value in the given axis (in this case, columns) is True.\n",
    "# - Finally, the `.columns` attribute is used to retrieve the column labels where the condition is True.\n",
    "\n",
    "# You can now use the 'columns_with_missing_values' variable to further analyze or handle the columns with missing values."
   ]
  },
  {
   "cell_type": "code",
   "execution_count": 99,
   "metadata": {},
   "outputs": [
    {
     "name": "stdout",
     "output_type": "stream",
     "text": [
      "Columns with missing values: Index(['Screen_Size_cm', 'Weight_kg'], dtype='object')\n"
     ]
    }
   ],
   "source": [
    "print(\"Columns with missing values:\", columns_with_missing_values)"
   ]
  },
  {
   "cell_type": "markdown",
   "metadata": {},
   "source": [
    "### PROMPT: Write a Python code to replace the missing values in a pandas data frame, per the following guidelines.\n",
    "#### 1. For a categorical attribute \"Screen_Size_cm\", replace the missing values with the most frequent value in the column.\n",
    "#### 2. For a continuous value attribute \"Weight_kg\", replace the missing values with the mean value of the entries in the column."
   ]
  },
  {
   "cell_type": "code",
   "execution_count": 108,
   "metadata": {},
   "outputs": [
    {
     "name": "stderr",
     "output_type": "stream",
     "text": [
      "C:\\Users\\hfval\\AppData\\Local\\Temp\\ipykernel_18400\\459664409.py:3: FutureWarning: A value is trying to be set on a copy of a DataFrame or Series through chained assignment using an inplace method.\n",
      "The behavior will change in pandas 3.0. This inplace method will never work because the intermediate object on which we are setting values always behaves as a copy.\n",
      "\n",
      "For example, when doing 'df[col].method(value, inplace=True)', try using 'df.method({col: value}, inplace=True)' or df[col] = df[col].method(value) instead, to perform the operation inplace on the original object.\n",
      "\n",
      "\n",
      "  df['Screen_Size_cm'].fillna(most_frequent_value, inplace=True)\n",
      "C:\\Users\\hfval\\AppData\\Local\\Temp\\ipykernel_18400\\459664409.py:7: FutureWarning: A value is trying to be set on a copy of a DataFrame or Series through chained assignment using an inplace method.\n",
      "The behavior will change in pandas 3.0. This inplace method will never work because the intermediate object on which we are setting values always behaves as a copy.\n",
      "\n",
      "For example, when doing 'df[col].method(value, inplace=True)', try using 'df.method({col: value}, inplace=True)' or df[col] = df[col].method(value) instead, to perform the operation inplace on the original object.\n",
      "\n",
      "\n",
      "  df['Weight_kg'].fillna(mean_value, inplace=True)\n"
     ]
    }
   ],
   "source": [
    "# Replace missing values in the 'Screen_Size_cm' column with the most frequent value\n",
    "most_frequent_value = df['Screen_Size_cm'].mode()[0]\n",
    "df['Screen_Size_cm'].fillna(most_frequent_value, inplace=True)\n",
    "\n",
    "# Replace missing values in the 'Weight_kg' column with the mean value\n",
    "mean_value = df['Weight_kg'].mean()\n",
    "df['Weight_kg'].fillna(mean_value, inplace=True)\n",
    "\n",
    "# Additional details:\n",
    "# - The `.mode()` method is used to calculate the most frequent value in a column.\n",
    "# - The `[0]` indexing is used to retrieve the most frequent value from the resulting Series.\n",
    "# - The `.fillna()` method is used to replace missing values with a specified value.\n",
    "# - The `inplace=True` parameter is used to modify the original data frame instead of creating a new one.\n",
    "\n",
    "# You can now use the modified 'df' data frame, which has the missing values replaced according to the guidelines."
   ]
  },
  {
   "cell_type": "code",
   "execution_count": 111,
   "metadata": {},
   "outputs": [
    {
     "name": "stdout",
     "output_type": "stream",
     "text": [
      "\n",
      "DataFrame after replacing missing values:\n",
      "     Unnamed: 0 Manufacturer  Category     Screen  GPU  OS  CPU_core  \\\n",
      "0             0         Acer         4  IPS Panel    2   1         5   \n",
      "1             1         Dell         3    Full HD    1   1         3   \n",
      "2             2         Dell         3    Full HD    1   1         7   \n",
      "3             3         Dell         4  IPS Panel    2   1         5   \n",
      "4             4           HP         4    Full HD    2   1         7   \n",
      "..          ...          ...       ...        ...  ...  ..       ...   \n",
      "233         233       Lenovo         4  IPS Panel    2   1         7   \n",
      "234         234      Toshiba         3    Full HD    2   1         5   \n",
      "235         235       Lenovo         4  IPS Panel    2   1         5   \n",
      "236         236       Lenovo         3    Full HD    3   1         5   \n",
      "237         237      Toshiba         3    Full HD    2   1         5   \n",
      "\n",
      "     Screen_Size_cm  CPU_frequency  RAM_GB  Storage_GB_SSD  Weight_kg  Price  \n",
      "0            35.560            1.6       8             256       1.60    978  \n",
      "1            39.624            2.0       4             256       2.20    634  \n",
      "2            39.624            2.7       8             256       2.20    946  \n",
      "3            33.782            1.6       8             128       1.22   1244  \n",
      "4            39.624            1.8       8             256       1.91    837  \n",
      "..              ...            ...     ...             ...        ...    ...  \n",
      "233          35.560            2.6       8             256       1.70   1891  \n",
      "234          33.782            2.4       8             256       1.20   1950  \n",
      "235          30.480            2.6       8             256       1.36   2236  \n",
      "236          39.624            2.5       6             256       2.40    883  \n",
      "237          35.560            2.3       8             256       1.95   1499  \n",
      "\n",
      "[238 rows x 13 columns]\n",
      "\n",
      "Missing values count after replacement:\n",
      "Unnamed: 0        0\n",
      "Manufacturer      0\n",
      "Category          0\n",
      "Screen            0\n",
      "GPU               0\n",
      "OS                0\n",
      "CPU_core          0\n",
      "Screen_Size_cm    0\n",
      "CPU_frequency     0\n",
      "RAM_GB            0\n",
      "Storage_GB_SSD    0\n",
      "Weight_kg         0\n",
      "Price             0\n",
      "dtype: int64\n"
     ]
    }
   ],
   "source": [
    "# Display the DataFrame after replacing missing values\n",
    "print(\"\\nDataFrame after replacing missing values:\")\n",
    "print(df)\n",
    "print(\"\\nMissing values count after replacement:\")\n",
    "print(df.isna().sum())"
   ]
  },
  {
   "cell_type": "markdown",
   "metadata": {},
   "source": [
    "# Building the prompt: Modify data type"
   ]
  },
  {
   "cell_type": "markdown",
   "metadata": {},
   "source": [
    "### PROMPT: Write a Python code snippet to change the data type of the attributes \"Screen_Size_cm\" and \"Weight_kg\" of a data frame to float."
   ]
  },
  {
   "cell_type": "code",
   "execution_count": 122,
   "metadata": {},
   "outputs": [],
   "source": [
    "# Change the data type of 'Screen_Size_cm' and 'Weight_kg' to float\n",
    "df['Screen_Size_cm'] = df['Screen_Size_cm'].astype(float)\n",
    "df['Weight_kg'] = df['Weight_kg'].astype(float)\n",
    "\n",
    "# Additional details:\n",
    "# - The `.astype()` method is used to change the data type of a column.\n",
    "# - In this case, we're specifying `float` as the desired data type.\n",
    "# - Make sure the columns contain numeric values that can be converted to float.\n",
    "# - If there are any non-numeric values in the columns, the conversion will raise an error.\n",
    "\n",
    "# You can now use the modified 'df' data frame, which has the data types of 'Screen_Size_cm' and 'Weight_kg' changed to float."
   ]
  },
  {
   "cell_type": "markdown",
   "metadata": {},
   "source": [
    "# Building the prompt: Standardization and Normalization"
   ]
  },
  {
   "cell_type": "markdown",
   "metadata": {},
   "source": [
    "### PROMPT: Write a Python code to modify the contents under the following attributes of the data frame as required.\n",
    "#### 1. Data under 'Screen_Size_cm' is assumed to be in centimeters. Convert this data into inches. Modify the name of the attribute to 'Screen_Size_inch'.\n",
    "#### 2. Data under 'Weight_kg' is assumed to be in kilograms. Convert this data into pounds. Modify the name of the attribute to 'Weight_pounds'."
   ]
  },
  {
   "cell_type": "code",
   "execution_count": 126,
   "metadata": {},
   "outputs": [],
   "source": [
    "# Convert 'Screen_Size_cm' from centimeters to inches and modify the attribute name\n",
    "df['Screen_Size_inch'] = df['Screen_Size_cm'] * 0.393701\n",
    "df.drop('Screen_Size_cm', axis=1, inplace=True)\n",
    "\n",
    "# Convert 'Weight_kg' from kilograms to pounds and modify the attribute name\n",
    "df['Weight_pounds'] = df['Weight_kg'] * 2.20462\n",
    "df.drop('Weight_kg', axis=1, inplace=True)\n",
    "\n",
    "# Additional details:\n",
    "# - The code multiplies the values under 'Screen_Size_cm' by 0.393701 to convert centimeters to inches.\n",
    "# - The resulting values are stored in a new attribute named 'Screen_Size_inch'.\n",
    "# - The original 'Screen_Size_cm' attribute is dropped from the data frame using the `.drop()` method.\n",
    "# - Similarly, the code multiplies the values under 'Weight_kg' by 2.20462 to convert kilograms to pounds.\n",
    "# - The resulting values are stored in a new attribute named 'Weight_pounds'.\n",
    "# - The original 'Weight_kg' attribute is dropped from the data frame.\n",
    "\n",
    "# You can now use the modified 'df' data frame, which has the contents and attribute names modified as required."
   ]
  },
  {
   "cell_type": "markdown",
   "metadata": {},
   "source": [
    "### PROMPT: Write a Python code to normalize the content under the attribute \"CPU_frequency\" in a data frame df concerning its maximum value. Make changes to the original data, and do not create a new attribute."
   ]
  },
  {
   "cell_type": "code",
   "execution_count": 137,
   "metadata": {},
   "outputs": [],
   "source": [
    "# Normalize the content under 'CPU_frequency' with respect to its maximum value\n",
    "max_value = df['CPU_frequency'].max()\n",
    "df['CPU_frequency'] = df['CPU_frequency'] / max_value\n",
    "\n",
    "# Additional details:\n",
    "# - The code calculates the maximum value of the 'CPU_frequency' attribute using the `.max()` method.\n",
    "# - It then divides the values under 'CPU_frequency' by the maximum value to normalize them.\n",
    "# - The resulting normalized values overwrite the original values in the 'CPU_frequency' attribute.\n",
    "\n",
    "# You can now use the modified 'df' data frame, which has the content under the 'CPU_frequency' attribute normalized."
   ]
  },
  {
   "cell_type": "markdown",
   "metadata": {},
   "source": [
    "# Building the prompt: Categorical to numerical"
   ]
  },
  {
   "cell_type": "markdown",
   "metadata": {},
   "source": [
    "For predictive modeling, the categorical variables are not usable currently. So, you must convert the important categorical variables into indicator numerical variables. Indicator variables are typically new attributes, with content being 1 for the indicated category and 0 for all others. Once you create the indicator variables, you may drop the original attribute."
   ]
  },
  {
   "cell_type": "markdown",
   "metadata": {},
   "source": [
    "### PROMPT: Write a Python code to perform the following tasks.\n",
    "#### 1. Convert a data frame df attribute \"Screen\", into indicator variables, saved as df1, with the naming convention \"Screen_<unique value of the attribute>\".\n",
    "#### 2. Append df1 into the original data frame df.\n",
    "#### 3. Drop the original attribute from the data frame df."
   ]
  },
  {
   "cell_type": "code",
   "execution_count": 142,
   "metadata": {},
   "outputs": [],
   "source": [
    "# Convert the 'Screen' attribute into indicator variables\n",
    "df1 = pd.get_dummies(df['Screen'], prefix='Screen')\n",
    "\n",
    "# Append df1 into the original data frame df\n",
    "df = pd.concat([df, df1], axis=1)\n",
    "\n",
    "# Drop the original 'Screen' attribute from the data frame\n",
    "df.drop('Screen', axis=1, inplace=True)\n",
    "\n",
    "# Additional details:\n",
    "# - The `pd.get_dummies()` function is used to convert a categorical attribute into indicator variables.\n",
    "# - The resulting indicator variables are stored in a new data frame named 'df1'.\n",
    "# - The `prefix` parameter is used to specify the naming convention for the indicator variables.\n",
    "# - The `pd.concat()` function is used to concatenate the original data frame 'df' and 'df1' along the column axis (axis=1).\n",
    "# - The resulting concatenated data frame is assigned back to 'df'.\n",
    "# - Finally, the `.drop()` method is used to drop the original 'Screen' attribute from 'df'.\n",
    "\n",
    "# You can now use the modified 'df' data frame, which has the 'Screen' attribute converted into indicator variables, appended, and the original attribute dropped."
   ]
  },
  {
   "cell_type": "markdown",
   "metadata": {},
   "source": [
    "### PROMPT: Create a prompt to generate a Python code that converts the values under Price from USD to Euros."
   ]
  },
  {
   "cell_type": "code",
   "execution_count": 145,
   "metadata": {},
   "outputs": [
    {
     "name": "stdout",
     "output_type": "stream",
     "text": [
      "Original DataFrame:\n",
      "     Unnamed: 0 Manufacturer  Category  GPU  OS  CPU_core  CPU_frequency  \\\n",
      "0             0         Acer         4    2   1         5       0.551724   \n",
      "1             1         Dell         3    1   1         3       0.689655   \n",
      "2             2         Dell         3    1   1         7       0.931034   \n",
      "3             3         Dell         4    2   1         5       0.551724   \n",
      "4             4           HP         4    2   1         7       0.620690   \n",
      "..          ...          ...       ...  ...  ..       ...            ...   \n",
      "233         233       Lenovo         4    2   1         7       0.896552   \n",
      "234         234      Toshiba         3    2   1         5       0.827586   \n",
      "235         235       Lenovo         4    2   1         5       0.896552   \n",
      "236         236       Lenovo         3    3   1         5       0.862069   \n",
      "237         237      Toshiba         3    2   1         5       0.793103   \n",
      "\n",
      "     RAM_GB  Storage_GB_SSD  Price  Screen_Size_inch  Weight_pounds  \\\n",
      "0         8             256    978         14.000008       3.527392   \n",
      "1         4             256    634         15.600008       4.850164   \n",
      "2         8             256    946         15.600008       4.850164   \n",
      "3         8             128   1244         13.300007       2.689636   \n",
      "4         8             256    837         15.600008       4.210824   \n",
      "..      ...             ...    ...               ...            ...   \n",
      "233       8             256   1891         14.000008       3.747854   \n",
      "234       8             256   1950         13.300007       2.645544   \n",
      "235       8             256   2236         12.000006       2.998283   \n",
      "236       6             256    883         15.600008       5.291088   \n",
      "237       8             256   1499         14.000008       4.299009   \n",
      "\n",
      "     Screen_Full HD  Screen_IPS Panel  \n",
      "0             False              True  \n",
      "1              True             False  \n",
      "2              True             False  \n",
      "3             False              True  \n",
      "4              True             False  \n",
      "..              ...               ...  \n",
      "233           False              True  \n",
      "234            True             False  \n",
      "235           False              True  \n",
      "236            True             False  \n",
      "237            True             False  \n",
      "\n",
      "[238 rows x 14 columns]\n",
      "\n",
      "Original data types:\n",
      "Unnamed: 0            int64\n",
      "Manufacturer         object\n",
      "Category              int64\n",
      "GPU                   int64\n",
      "OS                    int64\n",
      "CPU_core              int64\n",
      "CPU_frequency       float64\n",
      "RAM_GB                int64\n",
      "Storage_GB_SSD        int64\n",
      "Price                 int64\n",
      "Screen_Size_inch    float64\n",
      "Weight_pounds       float64\n",
      "Screen_Full HD         bool\n",
      "Screen_IPS Panel       bool\n",
      "dtype: object\n"
     ]
    }
   ],
   "source": [
    "import numpy as np\n",
    "\n",
    "# Set a fixed exchange rate (1 USD = 0.85 EUR)\n",
    "# In a real application, you might want to fetch the current rate from an API\n",
    "USD_TO_EUR_RATE = 0.85\n",
    "\n",
    "# Display the original DataFrame\n",
    "print(\"Original DataFrame:\")\n",
    "print(df)\n",
    "print(\"\\nOriginal data types:\")\n",
    "print(df.dtypes)\n",
    "\n",
    "# Convert 'Price' column to numeric, coercing errors to NaN\n",
    "# This handles non-numeric values gracefully\n",
    "df['Price'] = pd.to_numeric(df['Price'], errors='coerce')\n",
    "\n",
    "# Create a new column 'Price_EUR' with converted values\n",
    "df['Price_EUR'] = df['Price'] * USD_TO_EUR_RATE\n",
    "\n"
   ]
  },
  {
   "cell_type": "code",
   "execution_count": 147,
   "metadata": {},
   "outputs": [],
   "source": [
    "# Count how many values couldn't be converted\n",
    "invalid_count = df['Price'].isna().sum()\n",
    "if invalid_count > 0:\n",
    "    print(f\"\\nWarning: {invalid_count} invalid price value(s) detected and set to NaN\")\n"
   ]
  },
  {
   "cell_type": "code",
   "execution_count": 149,
   "metadata": {},
   "outputs": [],
   "source": [
    "\n",
    "# Format the EUR prices to 2 decimal places for display\n",
    "# Note: This creates a string representation for display purposes\n",
    "df['Price_EUR_Formatted'] = df['Price_EUR'].apply(lambda x: f'{x:.2f}' if not pd.isna(x) else 'N/A')\n",
    "\n"
   ]
  },
  {
   "cell_type": "code",
   "execution_count": 151,
   "metadata": {},
   "outputs": [
    {
     "name": "stdout",
     "output_type": "stream",
     "text": [
      "\n",
      "DataFrame with USD and EUR prices:\n",
      "     Price  Price_EUR Price_EUR_Formatted\n",
      "0      978     831.30              831.30\n",
      "1      634     538.90              538.90\n",
      "2      946     804.10              804.10\n",
      "3     1244    1057.40             1057.40\n",
      "4      837     711.45              711.45\n",
      "..     ...        ...                 ...\n",
      "233   1891    1607.35             1607.35\n",
      "234   1950    1657.50             1657.50\n",
      "235   2236    1900.60             1900.60\n",
      "236    883     750.55              750.55\n",
      "237   1499    1274.15             1274.15\n",
      "\n",
      "[238 rows x 3 columns]\n",
      "\n",
      "Summary of prices:\n",
      "             Price    Price_EUR\n",
      "count   238.000000   238.000000\n",
      "mean   1462.344538  1242.992857\n",
      "std     574.607699   488.416544\n",
      "min     527.000000   447.950000\n",
      "25%    1066.500000   906.525000\n",
      "50%    1333.000000  1133.050000\n",
      "75%    1777.000000  1510.450000\n",
      "max    3810.000000  3238.500000\n"
     ]
    }
   ],
   "source": [
    "\n",
    "\n",
    "# Display the DataFrame with converted prices\n",
    "print(\"\\nDataFrame with USD and EUR prices:\")\n",
    "print(df[['Price', 'Price_EUR', 'Price_EUR_Formatted']])\n",
    "\n",
    "# Summary statistics of prices (excluding NaN values)\n",
    "print(\"\\nSummary of prices:\")\n",
    "price_summary = df[['Price', 'Price_EUR']].describe()\n",
    "print(price_summary)\n",
    "\n",
    "# Optional: If you need to save the DataFrame with the new column\n",
    "# df.to_csv('products_with_eur_prices.csv', index=False)"
   ]
  },
  {
   "cell_type": "code",
   "execution_count": 153,
   "metadata": {},
   "outputs": [
    {
     "name": "stdout",
     "output_type": "stream",
     "text": [
      "     Unnamed: 0 Manufacturer  Category  GPU  OS  CPU_core  CPU_frequency  \\\n",
      "0             0         Acer         4    2   1         5       0.551724   \n",
      "1             1         Dell         3    1   1         3       0.689655   \n",
      "2             2         Dell         3    1   1         7       0.931034   \n",
      "3             3         Dell         4    2   1         5       0.551724   \n",
      "4             4           HP         4    2   1         7       0.620690   \n",
      "..          ...          ...       ...  ...  ..       ...            ...   \n",
      "233         233       Lenovo         4    2   1         7       0.896552   \n",
      "234         234      Toshiba         3    2   1         5       0.827586   \n",
      "235         235       Lenovo         4    2   1         5       0.896552   \n",
      "236         236       Lenovo         3    3   1         5       0.862069   \n",
      "237         237      Toshiba         3    2   1         5       0.793103   \n",
      "\n",
      "     RAM_GB  Storage_GB_SSD  Price  Screen_Size_inch  Weight_pounds  \\\n",
      "0         8             256    978         14.000008       3.527392   \n",
      "1         4             256    634         15.600008       4.850164   \n",
      "2         8             256    946         15.600008       4.850164   \n",
      "3         8             128   1244         13.300007       2.689636   \n",
      "4         8             256    837         15.600008       4.210824   \n",
      "..      ...             ...    ...               ...            ...   \n",
      "233       8             256   1891         14.000008       3.747854   \n",
      "234       8             256   1950         13.300007       2.645544   \n",
      "235       8             256   2236         12.000006       2.998283   \n",
      "236       6             256    883         15.600008       5.291088   \n",
      "237       8             256   1499         14.000008       4.299009   \n",
      "\n",
      "     Screen_Full HD  Screen_IPS Panel  Price_EUR Price_EUR_Formatted  \n",
      "0             False              True     831.30              831.30  \n",
      "1              True             False     538.90              538.90  \n",
      "2              True             False     804.10              804.10  \n",
      "3             False              True    1057.40             1057.40  \n",
      "4              True             False     711.45              711.45  \n",
      "..              ...               ...        ...                 ...  \n",
      "233           False              True    1607.35             1607.35  \n",
      "234            True             False    1657.50             1657.50  \n",
      "235           False              True    1900.60             1900.60  \n",
      "236            True             False     750.55              750.55  \n",
      "237            True             False    1274.15             1274.15  \n",
      "\n",
      "[238 rows x 16 columns]\n"
     ]
    }
   ],
   "source": [
    "print (df)"
   ]
  },
  {
   "cell_type": "markdown",
   "metadata": {},
   "source": [
    "### PROMPT: Modify the normalization prompt to perform min-max normalization on the CPU_frequency parameter."
   ]
  },
  {
   "cell_type": "code",
   "execution_count": 158,
   "metadata": {},
   "outputs": [
    {
     "name": "stdout",
     "output_type": "stream",
     "text": [
      "\n",
      "DataFrame with min-max normalized CPU_frequency:\n",
      "     Unnamed: 0 Manufacturer  Category  GPU  OS  CPU_core  CPU_frequency  \\\n",
      "0             0         Acer         4    2   1         5       0.551724   \n",
      "1             1         Dell         3    1   1         3       0.689655   \n",
      "2             2         Dell         3    1   1         7       0.931034   \n",
      "3             3         Dell         4    2   1         5       0.551724   \n",
      "4             4           HP         4    2   1         7       0.620690   \n",
      "..          ...          ...       ...  ...  ..       ...            ...   \n",
      "233         233       Lenovo         4    2   1         7       0.896552   \n",
      "234         234      Toshiba         3    2   1         5       0.827586   \n",
      "235         235       Lenovo         4    2   1         5       0.896552   \n",
      "236         236       Lenovo         3    3   1         5       0.862069   \n",
      "237         237      Toshiba         3    2   1         5       0.793103   \n",
      "\n",
      "     RAM_GB  Storage_GB_SSD  Price  Screen_Size_inch  Weight_pounds  \\\n",
      "0         8             256    978         14.000008       3.527392   \n",
      "1         4             256    634         15.600008       4.850164   \n",
      "2         8             256    946         15.600008       4.850164   \n",
      "3         8             128   1244         13.300007       2.689636   \n",
      "4         8             256    837         15.600008       4.210824   \n",
      "..      ...             ...    ...               ...            ...   \n",
      "233       8             256   1891         14.000008       3.747854   \n",
      "234       8             256   1950         13.300007       2.645544   \n",
      "235       8             256   2236         12.000006       2.998283   \n",
      "236       6             256    883         15.600008       5.291088   \n",
      "237       8             256   1499         14.000008       4.299009   \n",
      "\n",
      "     Screen_Full HD  Screen_IPS Panel  Price_EUR Price_EUR_Formatted  \\\n",
      "0             False              True     831.30              831.30   \n",
      "1              True             False     538.90              538.90   \n",
      "2              True             False     804.10              804.10   \n",
      "3             False              True    1057.40             1057.40   \n",
      "4              True             False     711.45              711.45   \n",
      "..              ...               ...        ...                 ...   \n",
      "233           False              True    1607.35             1607.35   \n",
      "234            True             False    1657.50             1657.50   \n",
      "235           False              True    1900.60             1900.60   \n",
      "236            True             False     750.55              750.55   \n",
      "237            True             False    1274.15             1274.15   \n",
      "\n",
      "     CPU_frequency_normalized  \n",
      "0                    0.235294  \n",
      "1                    0.470588  \n",
      "2                    0.882353  \n",
      "3                    0.235294  \n",
      "4                    0.352941  \n",
      "..                        ...  \n",
      "233                  0.823529  \n",
      "234                  0.705882  \n",
      "235                  0.823529  \n",
      "236                  0.764706  \n",
      "237                  0.647059  \n",
      "\n",
      "[238 rows x 17 columns]\n"
     ]
    }
   ],
   "source": [
    "# Get the minimum and maximum values of CPU_frequency\n",
    "min_value = df['CPU_frequency'].min()\n",
    "max_value = df['CPU_frequency'].max()\n",
    "\n",
    "# Perform min-max normalization: (x - min) / (max - min)\n",
    "df['CPU_frequency_normalized'] = (df['CPU_frequency'] - min_value) / (max_value - min_value)\n",
    "\n",
    "# Display the DataFrame with normalized values\n",
    "print(\"\\nDataFrame with min-max normalized CPU_frequency:\")\n",
    "print(df)\n",
    "\n"
   ]
  },
  {
   "cell_type": "code",
   "execution_count": 69,
   "metadata": {},
   "outputs": [
    {
     "name": "stdout",
     "output_type": "stream",
     "text": [
      "\n",
      "Minimum normalized value: 0.0\n",
      "Maximum normalized value: 1.0\n",
      "\n",
      "Final DataFrame:\n",
      "     CPU_frequency  CPU_frequency_original\n",
      "0         0.235294                0.235294\n",
      "1         0.470588                0.470588\n",
      "2         0.882353                0.882353\n",
      "3         0.235294                0.235294\n",
      "4         0.352941                0.352941\n",
      "..             ...                     ...\n",
      "233       0.823529                0.823529\n",
      "234       0.705882                0.705882\n",
      "235       0.823529                0.823529\n",
      "236       0.764706                0.764706\n",
      "237       0.647059                0.647059\n",
      "\n",
      "[238 rows x 2 columns]\n"
     ]
    }
   ],
   "source": [
    "# Verify the normalization: min should be 0 and max should be 1\n",
    "print(\"\\nMinimum normalized value:\", df['CPU_frequency_normalized'].min())\n",
    "print(\"Maximum normalized value:\", df['CPU_frequency_normalized'].max())\n",
    "\n",
    "# Keep the original values for reference\n",
    "df['CPU_frequency_original'] = df['CPU_frequency']\n",
    "\n",
    "# Replace the original column with normalized values\n",
    "df['CPU_frequency'] = df['CPU_frequency_normalized']\n",
    "\n",
    "# Display the final DataFrame\n",
    "print(\"\\nFinal DataFrame:\")\n",
    "print(df[['CPU_frequency', 'CPU_frequency_original']])"
   ]
  },
  {
   "cell_type": "markdown",
   "metadata": {},
   "source": [
    "## Authors\n"
   ]
  },
  {
   "cell_type": "markdown",
   "metadata": {},
   "source": [
    "[Abhishek Gagneja](https://www.linkedin.com/in/abhishek-gagneja-23051987/)\n"
   ]
  },
  {
   "cell_type": "markdown",
   "metadata": {},
   "source": [
    "## Change Log\n"
   ]
  },
  {
   "cell_type": "markdown",
   "metadata": {},
   "source": [
    "|Date (YYYY-MM-DD)|Version|Changed By|Change Description|\n",
    "|-|-|-|-|\n",
    "|2023-12-10|0.1|Abhishek Gagneja|Initial Draft created|\n"
   ]
  },
  {
   "cell_type": "markdown",
   "metadata": {},
   "source": [
    "Copyright © 2023 IBM Corporation. All rights reserved.\n"
   ]
  }
 ],
 "metadata": {
  "kernelspec": {
   "display_name": "Python [conda env:base] *",
   "language": "python",
   "name": "conda-base-py"
  },
  "language_info": {
   "codemirror_mode": {
    "name": "ipython",
    "version": 3
   },
   "file_extension": ".py",
   "mimetype": "text/x-python",
   "name": "python",
   "nbconvert_exporter": "python",
   "pygments_lexer": "ipython3",
   "version": "3.12.7"
  }
 },
 "nbformat": 4,
 "nbformat_minor": 4
}
